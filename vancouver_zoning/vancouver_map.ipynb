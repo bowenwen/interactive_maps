{
 "cells": [
  {
   "cell_type": "code",
   "execution_count": 1,
   "metadata": {},
   "outputs": [],
   "source": [
    "import pandas as pd\n",
    "import geopandas as gpd\n",
    "import folium\n",
    "import seaborn as sns"
   ]
  },
  {
   "cell_type": "markdown",
   "metadata": {},
   "source": [
    "## Getting Started"
   ]
  },
  {
   "cell_type": "code",
   "execution_count": 2,
   "metadata": {},
   "outputs": [
    {
     "data": {
      "text/html": [
       "<div style=\"width:100%;\"><div style=\"position:relative;width:100%;height:0;padding-bottom:60%;\"><iframe src=\"data:text/html;charset=utf-8;base64,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\" style=\"position:absolute;width:100%;height:100%;left:0;top:0;border:none !important;\" allowfullscreen webkitallowfullscreen mozallowfullscreen></iframe></div></div>"
      ],
      "text/plain": [
       "<folium.folium.Map at 0x7f50043b80d0>"
      ]
     },
     "execution_count": 2,
     "metadata": {},
     "output_type": "execute_result"
    }
   ],
   "source": [
    "m = folium.Map(\n",
    "    location=[49.2827, -123.1207],\n",
    "    tiles='Stamen Toner',\n",
    "    zoom_start=11\n",
    ")\n",
    "\n",
    "m"
   ]
  },
  {
   "cell_type": "code",
   "execution_count": 3,
   "metadata": {
    "scrolled": false
   },
   "outputs": [],
   "source": [
    "zoning_geofile = f'data/zoning-districts-and-labels.geojson'\n",
    "\n",
    "folium.GeoJson(\n",
    "    zoning_geofile,\n",
    "    name='geojson'\n",
    ").add_to(m)\n",
    "\n",
    "m.save('van_map.html')"
   ]
  },
  {
   "cell_type": "code",
   "execution_count": 4,
   "metadata": {},
   "outputs": [],
   "source": [
    "zoning_geofile = f'data/zoning-districts-and-labels.geojson'\n",
    "zoning_gdf = gpd.read_file(zoning_geofile)"
   ]
  },
  {
   "cell_type": "code",
   "execution_count": 5,
   "metadata": {},
   "outputs": [
    {
     "name": "stderr",
     "output_type": "stream",
     "text": [
      "/opt/conda/lib/python3.7/site-packages/pyproj/crs.py:77: FutureWarning: '+init=<authority>:<code>' syntax is deprecated. '<authority>:<code>' is the preferred initialization method.\n",
      "  return _prepare_from_string(\" \".join(pjargs))\n",
      "/opt/conda/lib/python3.7/site-packages/pyproj/crs.py:77: FutureWarning: '+init=<authority>:<code>' syntax is deprecated. '<authority>:<code>' is the preferred initialization method.\n",
      "  return _prepare_from_string(\" \".join(pjargs))\n"
     ]
    },
    {
     "data": {
      "text/plain": [
       "{'init': 'epsg:4326'}"
      ]
     },
     "execution_count": 5,
     "metadata": {},
     "output_type": "execute_result"
    }
   ],
   "source": [
    "# reproject to MTM, calculate area\n",
    "zoning_gdf = zoning_gdf.to_crs({'init': 'epsg:26910'})\n",
    "zoning_gdf.crs\n",
    "zoning_gdf['area'] = zoning_gdf.area / 10000  # in hectares\n",
    "\n",
    "# restore projection\n",
    "zoning_gdf = zoning_gdf.to_crs({'init': 'epsg:4326'})\n",
    "zoning_gdf.crs"
   ]
  },
  {
   "cell_type": "code",
   "execution_count": 6,
   "metadata": {},
   "outputs": [
    {
     "data": {
      "text/html": [
       "<div>\n",
       "<style scoped>\n",
       "    .dataframe tbody tr th:only-of-type {\n",
       "        vertical-align: middle;\n",
       "    }\n",
       "\n",
       "    .dataframe tbody tr th {\n",
       "        vertical-align: top;\n",
       "    }\n",
       "\n",
       "    .dataframe thead th {\n",
       "        text-align: right;\n",
       "    }\n",
       "</style>\n",
       "<table border=\"1\" class=\"dataframe\">\n",
       "  <thead>\n",
       "    <tr style=\"text-align: right;\">\n",
       "      <th></th>\n",
       "      <th>category</th>\n",
       "      <th>zone_name</th>\n",
       "      <th>geometry</th>\n",
       "      <th>area</th>\n",
       "    </tr>\n",
       "  </thead>\n",
       "  <tbody>\n",
       "    <tr>\n",
       "      <th>0</th>\n",
       "      <td>Light Industrial</td>\n",
       "      <td>I-2</td>\n",
       "      <td>POLYGON ((-123.08908 49.27590, -123.08937 49.2...</td>\n",
       "      <td>150.585595</td>\n",
       "    </tr>\n",
       "    <tr>\n",
       "      <th>1</th>\n",
       "      <td>Two-Family Dwelling</td>\n",
       "      <td>RT-2</td>\n",
       "      <td>POLYGON ((-123.06608 49.25460, -123.06633 49.2...</td>\n",
       "      <td>0.068840</td>\n",
       "    </tr>\n",
       "    <tr>\n",
       "      <th>2</th>\n",
       "      <td>Commercial</td>\n",
       "      <td>C-1</td>\n",
       "      <td>POLYGON ((-123.02378 49.24451, -123.02377 49.2...</td>\n",
       "      <td>0.497827</td>\n",
       "    </tr>\n",
       "    <tr>\n",
       "      <th>3</th>\n",
       "      <td>Comprehensive Development</td>\n",
       "      <td>CD-1 (624)</td>\n",
       "      <td>POLYGON ((-123.02373 49.25063, -123.02458 49.2...</td>\n",
       "      <td>0.214817</td>\n",
       "    </tr>\n",
       "    <tr>\n",
       "      <th>4</th>\n",
       "      <td>Comprehensive Development</td>\n",
       "      <td>CD-1 (201)</td>\n",
       "      <td>POLYGON ((-123.03378 49.23848, -123.03287 49.2...</td>\n",
       "      <td>0.464762</td>\n",
       "    </tr>\n",
       "  </tbody>\n",
       "</table>\n",
       "</div>"
      ],
      "text/plain": [
       "                    category   zone_name  \\\n",
       "0           Light Industrial         I-2   \n",
       "1        Two-Family Dwelling        RT-2   \n",
       "2                 Commercial         C-1   \n",
       "3  Comprehensive Development  CD-1 (624)   \n",
       "4  Comprehensive Development  CD-1 (201)   \n",
       "\n",
       "                                            geometry        area  \n",
       "0  POLYGON ((-123.08908 49.27590, -123.08937 49.2...  150.585595  \n",
       "1  POLYGON ((-123.06608 49.25460, -123.06633 49.2...    0.068840  \n",
       "2  POLYGON ((-123.02378 49.24451, -123.02377 49.2...    0.497827  \n",
       "3  POLYGON ((-123.02373 49.25063, -123.02458 49.2...    0.214817  \n",
       "4  POLYGON ((-123.03378 49.23848, -123.03287 49.2...    0.464762  "
      ]
     },
     "execution_count": 6,
     "metadata": {},
     "output_type": "execute_result"
    }
   ],
   "source": [
    "zoning_gdf.head(5)"
   ]
  },
  {
   "cell_type": "markdown",
   "metadata": {},
   "source": [
    "## Chloropleth\n",
    "\n",
    "* https://python-visualization.github.io/folium/quickstart.html#Choropleth-maps"
   ]
  },
  {
   "cell_type": "code",
   "execution_count": 7,
   "metadata": {},
   "outputs": [],
   "source": [
    "m = folium.Map(\n",
    "    location=[49.2827, -123.1207],\n",
    "    tiles='Stamen Toner',\n",
    "    zoom_start=11\n",
    ")\n",
    "\n",
    "folium.Choropleth(\n",
    "    geo_data=zoning_geofile,\n",
    "    name='choropleth',\n",
    "    data=pd.DataFrame(zoning_gdf[['zone_name', 'area']]),\n",
    "    # data=zoning_gdf[['zone_name', 'area']], # could be separate\n",
    "    columns=['zone_name', 'area'],\n",
    "    # key_on='feature.id',\n",
    "    key_on='properties.zone_name',\n",
    "    fill_color='YlGn',\n",
    "    fill_opacity=0.7,\n",
    "    line_opacity=0.2,\n",
    "    legend_name='area'\n",
    ").add_to(m)\n",
    "\n",
    "folium.LayerControl().add_to(m)\n",
    "\n",
    "m.save('van_map_zoning-area.html')"
   ]
  },
  {
   "cell_type": "markdown",
   "metadata": {},
   "source": [
    "## Polygons with color by category\n",
    "\n",
    "* https://stackoverflow.com/questions/35516318/plot-colored-polygons-with-geodataframe-in-folium"
   ]
  },
  {
   "cell_type": "code",
   "execution_count": 8,
   "metadata": {},
   "outputs": [
    {
     "data": {
      "image/png": "[encoded data removed]",
      "text/plain": [
       "<Figure size 720x72 with 1 Axes>"
      ]
     },
     "metadata": {
      "needs_background": "light"
     },
     "output_type": "display_data"
    }
   ],
   "source": [
    "sns.palplot(sns.color_palette(\"pastel\", 10))"
   ]
  },
  {
   "cell_type": "code",
   "execution_count": 9,
   "metadata": {},
   "outputs": [
    {
     "data": {
      "text/html": [
       "<div>\n",
       "<style scoped>\n",
       "    .dataframe tbody tr th:only-of-type {\n",
       "        vertical-align: middle;\n",
       "    }\n",
       "\n",
       "    .dataframe tbody tr th {\n",
       "        vertical-align: top;\n",
       "    }\n",
       "\n",
       "    .dataframe thead th {\n",
       "        text-align: right;\n",
       "    }\n",
       "</style>\n",
       "<table border=\"1\" class=\"dataframe\">\n",
       "  <thead>\n",
       "    <tr style=\"text-align: right;\">\n",
       "      <th></th>\n",
       "      <th>category</th>\n",
       "      <th>color</th>\n",
       "    </tr>\n",
       "  </thead>\n",
       "  <tbody>\n",
       "    <tr>\n",
       "      <th>0</th>\n",
       "      <td>Light Industrial</td>\n",
       "      <td>#a1c9f4</td>\n",
       "    </tr>\n",
       "    <tr>\n",
       "      <th>1</th>\n",
       "      <td>Two-Family Dwelling</td>\n",
       "      <td>#ffb482</td>\n",
       "    </tr>\n",
       "    <tr>\n",
       "      <th>2</th>\n",
       "      <td>Commercial</td>\n",
       "      <td>#8de5a1</td>\n",
       "    </tr>\n",
       "    <tr>\n",
       "      <th>3</th>\n",
       "      <td>Comprehensive Development</td>\n",
       "      <td>#ff9f9b</td>\n",
       "    </tr>\n",
       "    <tr>\n",
       "      <th>4</th>\n",
       "      <td>Multi-Family Dwelling</td>\n",
       "      <td>#d0bbff</td>\n",
       "    </tr>\n",
       "    <tr>\n",
       "      <th>5</th>\n",
       "      <td>One-Family Dwelling</td>\n",
       "      <td>#debb9b</td>\n",
       "    </tr>\n",
       "    <tr>\n",
       "      <th>6</th>\n",
       "      <td>Industrial</td>\n",
       "      <td>#fab0e4</td>\n",
       "    </tr>\n",
       "    <tr>\n",
       "      <th>7</th>\n",
       "      <td>Historical Area</td>\n",
       "      <td>#cfcfcf</td>\n",
       "    </tr>\n",
       "    <tr>\n",
       "      <th>8</th>\n",
       "      <td>Limited Agriculture</td>\n",
       "      <td>#fffea3</td>\n",
       "    </tr>\n",
       "    <tr>\n",
       "      <th>9</th>\n",
       "      <td>Other</td>\n",
       "      <td>#b9f2f0</td>\n",
       "    </tr>\n",
       "  </tbody>\n",
       "</table>\n",
       "</div>"
      ],
      "text/plain": [
       "                    category    color\n",
       "0           Light Industrial  #a1c9f4\n",
       "1        Two-Family Dwelling  #ffb482\n",
       "2                 Commercial  #8de5a1\n",
       "3  Comprehensive Development  #ff9f9b\n",
       "4      Multi-Family Dwelling  #d0bbff\n",
       "5        One-Family Dwelling  #debb9b\n",
       "6                 Industrial  #fab0e4\n",
       "7            Historical Area  #cfcfcf\n",
       "8        Limited Agriculture  #fffea3\n",
       "9                      Other  #b9f2f0"
      ]
     },
     "execution_count": 9,
     "metadata": {},
     "output_type": "execute_result"
    }
   ],
   "source": [
    "df_cat = pd.DataFrame(zoning_gdf['category'].unique())\n",
    "df_cat.rename(columns={0: 'category'}, inplace=True)\n",
    "\n",
    "# df_col = pd.DataFrame(sns.color_palette(\"hls\", len(df_cat)).as_hex())\n",
    "df_col = pd.DataFrame(sns.color_palette(\"pastel\", len(df_cat)).as_hex())\n",
    "df_col.rename(columns={0: 'color'}, inplace=True)\n",
    "\n",
    "df_catcol = pd.concat([df_cat, df_col], axis=1)\n",
    "df_catcol"
   ]
  },
  {
   "cell_type": "code",
   "execution_count": 10,
   "metadata": {},
   "outputs": [],
   "source": [
    "# build a color column\n",
    "zoning_gdf = zoning_gdf.merge(df_catcol, on='category')"
   ]
  },
  {
   "cell_type": "code",
   "execution_count": 11,
   "metadata": {},
   "outputs": [
    {
     "data": {
      "text/html": [
       "<div>\n",
       "<style scoped>\n",
       "    .dataframe tbody tr th:only-of-type {\n",
       "        vertical-align: middle;\n",
       "    }\n",
       "\n",
       "    .dataframe tbody tr th {\n",
       "        vertical-align: top;\n",
       "    }\n",
       "\n",
       "    .dataframe thead th {\n",
       "        text-align: right;\n",
       "    }\n",
       "</style>\n",
       "<table border=\"1\" class=\"dataframe\">\n",
       "  <thead>\n",
       "    <tr style=\"text-align: right;\">\n",
       "      <th></th>\n",
       "      <th>category</th>\n",
       "      <th>zone_name</th>\n",
       "      <th>geometry</th>\n",
       "      <th>area</th>\n",
       "      <th>color</th>\n",
       "    </tr>\n",
       "  </thead>\n",
       "  <tbody>\n",
       "    <tr>\n",
       "      <th>0</th>\n",
       "      <td>Light Industrial</td>\n",
       "      <td>I-2</td>\n",
       "      <td>POLYGON ((-123.08908 49.27590, -123.08937 49.2...</td>\n",
       "      <td>150.585595</td>\n",
       "      <td>#a1c9f4</td>\n",
       "    </tr>\n",
       "    <tr>\n",
       "      <th>1</th>\n",
       "      <td>Light Industrial</td>\n",
       "      <td>I-2</td>\n",
       "      <td>POLYGON ((-123.07682 49.26423, -123.07681 49.2...</td>\n",
       "      <td>0.499102</td>\n",
       "      <td>#a1c9f4</td>\n",
       "    </tr>\n",
       "    <tr>\n",
       "      <th>2</th>\n",
       "      <td>Light Industrial</td>\n",
       "      <td>I-1A</td>\n",
       "      <td>POLYGON ((-123.10282 49.26645, -123.10161 49.2...</td>\n",
       "      <td>2.705232</td>\n",
       "      <td>#a1c9f4</td>\n",
       "    </tr>\n",
       "    <tr>\n",
       "      <th>3</th>\n",
       "      <td>Light Industrial</td>\n",
       "      <td>I-4</td>\n",
       "      <td>POLYGON ((-123.09949 49.28409, -123.09886 49.2...</td>\n",
       "      <td>0.233317</td>\n",
       "      <td>#a1c9f4</td>\n",
       "    </tr>\n",
       "    <tr>\n",
       "      <th>4</th>\n",
       "      <td>Light Industrial</td>\n",
       "      <td>I-2</td>\n",
       "      <td>POLYGON ((-123.08082 49.28004, -123.08082 49.2...</td>\n",
       "      <td>0.038229</td>\n",
       "      <td>#a1c9f4</td>\n",
       "    </tr>\n",
       "  </tbody>\n",
       "</table>\n",
       "</div>"
      ],
      "text/plain": [
       "           category zone_name  \\\n",
       "0  Light Industrial       I-2   \n",
       "1  Light Industrial       I-2   \n",
       "2  Light Industrial      I-1A   \n",
       "3  Light Industrial       I-4   \n",
       "4  Light Industrial       I-2   \n",
       "\n",
       "                                            geometry        area    color  \n",
       "0  POLYGON ((-123.08908 49.27590, -123.08937 49.2...  150.585595  #a1c9f4  \n",
       "1  POLYGON ((-123.07682 49.26423, -123.07681 49.2...    0.499102  #a1c9f4  \n",
       "2  POLYGON ((-123.10282 49.26645, -123.10161 49.2...    2.705232  #a1c9f4  \n",
       "3  POLYGON ((-123.09949 49.28409, -123.09886 49.2...    0.233317  #a1c9f4  \n",
       "4  POLYGON ((-123.08082 49.28004, -123.08082 49.2...    0.038229  #a1c9f4  "
      ]
     },
     "execution_count": 11,
     "metadata": {},
     "output_type": "execute_result"
    }
   ],
   "source": [
    "zoning_gdf.head(5)"
   ]
  },
  {
   "cell_type": "code",
   "execution_count": 12,
   "metadata": {},
   "outputs": [
    {
     "name": "stderr",
     "output_type": "stream",
     "text": [
      "/opt/conda/lib/python3.7/site-packages/pyproj/crs.py:77: FutureWarning: '+init=<authority>:<code>' syntax is deprecated. '<authority>:<code>' is the preferred initialization method.\n",
      "  return _prepare_from_string(\" \".join(pjargs))\n"
     ]
    }
   ],
   "source": [
    "m = folium.Map(\n",
    "    location=[49.2827, -123.1207],\n",
    "    tiles='Stamen Toner',\n",
    "    zoom_start=11\n",
    ")\n",
    "\n",
    "folium.GeoJson(\n",
    "    zoning_gdf,\n",
    "    style_function=lambda feature: {\n",
    "        'fillColor': feature['properties']['color'],\n",
    "        'color': feature['properties']['color'],\n",
    "        'weight': 1,\n",
    "        'fillOpacity': 0.5,\n",
    "    }\n",
    ").add_to(m)\n",
    "\n",
    "folium.LayerControl().add_to(m)\n",
    "\n",
    "m.save('van_map_zoning-category.html')"
   ]
  },
  {
   "cell_type": "markdown",
   "metadata": {},
   "source": [
    "## Polygon with Category and pop ups\n",
    "\n",
    "* https://stackoverflow.com/questions/54595931/show-different-pop-ups-for-different-polygons-in-a-geojson-folium-python-ma\n",
    "* https://github.com/python-visualization/folium/issues/904"
   ]
  },
  {
   "cell_type": "code",
   "execution_count": 13,
   "metadata": {},
   "outputs": [],
   "source": [
    "# prep json\n",
    "import json\n",
    "zoning_geojson = zoning_gdf.to_json()\n",
    "zoning_geojson = json.loads(zoning_geojson)"
   ]
  },
  {
   "cell_type": "code",
   "execution_count": 14,
   "metadata": {},
   "outputs": [],
   "source": [
    "# map settings\n",
    "list_tooltip_vars = ['zone_name', 'category']\n",
    "# http://maps.stamen.com/toner-lite/#12/37.7706/-122.3782\n",
    "map_tiles = 'http://tile.stamen.com/toner-lite/{z}/{x}/{y}.png'"
   ]
  },
  {
   "cell_type": "code",
   "execution_count": 15,
   "metadata": {},
   "outputs": [],
   "source": [
    "m = folium.Map(\n",
    "    location=[49.2827, -123.1207],\n",
    "    tiles=map_tiles,\n",
    "    attr=\"toner-bcg\",\n",
    "    zoom_start=11\n",
    ")\n",
    "\n",
    "folium.GeoJson(\n",
    "    zoning_gdf,\n",
    "    style_function=lambda feature: {\n",
    "        'fillColor': feature['properties']['color'],\n",
    "        'color': feature['properties']['color'],\n",
    "        'weight': 1,\n",
    "        'fillOpacity': 0.5,\n",
    "    },\n",
    "    name='zoning layer',\n",
    "    control=False\n",
    ").add_to(m)\n",
    "\n",
    "data_geojson_dict = zoning_geojson\n",
    "\n",
    "layer_geom = folium.FeatureGroup(name='pop-up layer', control=False)\n",
    "\n",
    "for i in range(len(data_geojson_dict[\"features\"])):\n",
    "    temp_geojson = {\"features\": [\n",
    "        data_geojson_dict[\"features\"][i]], \"type\": \"FeatureCollection\"}\n",
    "    temp_geojson_layer = folium.GeoJson(temp_geojson,\n",
    "                                        highlight_function=lambda x: {\n",
    "                                            'weight': 3, 'color': 'grey'},\n",
    "                                        control=False,\n",
    "                                        style_function=lambda feature: {\n",
    "                                            # temp_geojson[\"features\"][0]['properties']['color'],\n",
    "                                            'color': 'black',\n",
    "                                            'weight': 0,\n",
    "                                            'fillOpacity': 0,\n",
    "                                        },\n",
    "                                        # option 1: tooltip on mouse over\n",
    "                                        tooltip=folium.features.GeoJsonTooltip(fields=list_tooltip_vars,\n",
    "                                                                               aliases=[\n",
    "                                                                                   x.capitalize()+\":\" for x in list_tooltip_vars],\n",
    "                                                                               labels=True,\n",
    "                                                                               sticky=False))\n",
    "    # option 2: pop up on mouse click\n",
    "    # folium.Popup(temp_geojson[\"features\"][0][\"properties\"][\"category\"]).add_to(temp_geojson_layer)\n",
    "    temp_geojson_layer.add_to(layer_geom)\n",
    "\n",
    "layer_geom.add_to(m)\n",
    "folium.LayerControl(autoZIndex=False, collapsed=True).add_to(m)\n",
    "\n",
    "m.save('van_map_zoning-category-popup.html')"
   ]
  },
  {
   "cell_type": "markdown",
   "metadata": {},
   "source": [
    "## Examples"
   ]
  },
  {
   "cell_type": "code",
   "execution_count": null,
   "metadata": {},
   "outputs": [],
   "source": [
    "import pandas as pd\n",
    "\n",
    "\n",
    "url = 'https://raw.githubusercontent.com/python-visualization/folium/master/examples/data'\n",
    "state_geo = f'{url}/us-states.json'\n",
    "state_unemployment = f'{url}/US_Unemployment_Oct2012.csv'\n",
    "state_data = pd.read_csv(state_unemployment)\n",
    "\n",
    "m = folium.Map(location=[48, -102], zoom_start=3)\n",
    "\n",
    "folium.Choropleth(\n",
    "    geo_data=state_geo,\n",
    "    name='choropleth',\n",
    "    data=state_data,\n",
    "    columns=['State', 'Unemployment'],\n",
    "    key_on='feature.id',\n",
    "    fill_color='YlGn',\n",
    "    fill_opacity=0.7,\n",
    "    line_opacity=0.2,\n",
    "    legend_name='Unemployment Rate (%)'\n",
    ").add_to(m)\n",
    "\n",
    "folium.LayerControl().add_to(m)\n",
    "\n",
    "m"
   ]
  },
  {
   "cell_type": "code",
   "execution_count": null,
   "metadata": {},
   "outputs": [],
   "source": []
  }
 ],
 "metadata": {
  "kernelspec": {
   "display_name": "Python 3",
   "language": "python",
   "name": "python3"
  },
  "language_info": {
   "codemirror_mode": {
    "name": "ipython",
    "version": 3
   },
   "file_extension": ".py",
   "mimetype": "text/x-python",
   "name": "python",
   "nbconvert_exporter": "python",
   "pygments_lexer": "ipython3",
   "version": "3.7.6"
  }
 },
 "nbformat": 4,
 "nbformat_minor": 4
}
